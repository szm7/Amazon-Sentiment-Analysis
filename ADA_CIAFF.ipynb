{
 "cells": [
  {
   "cell_type": "markdown",
   "metadata": {},
   "source": [
    "Brand Sentiment Analysis from Amazon Reviews"
   ]
  },
  {
   "cell_type": "markdown",
   "metadata": {},
   "source": [
    "Dataset Details"
   ]
  },
  {
   "cell_type": "markdown",
   "metadata": {},
   "source": [
    "Link : https://amazon-reviews-2023.github.io/main.html"
   ]
  },
  {
   "cell_type": "markdown",
   "metadata": {},
   "source": [
    "The dataset used in the brand sentiment analysis is the Amazon Reviews dataset collected in 2023 by McAuley Lab, featuring a substantial expansion to 571.54 million reviews, a 245.2% increase from previous versions. It spans interactions from May 1996 to September 2023 and includes richer item metadata and fine-grained timestamps. The dataset encompasses comprehensive user reviews with fields such as ratings, text, images, and helpful votes, along with detailed item metadata including product descriptions, prices, images, and hierarchical categories. The data has been cleaned and standardized, providing a robust foundation for benchmarking and analyzing brand sentiment across a wide range of product categories."
   ]
  },
  {
   "cell_type": "markdown",
   "metadata": {},
   "source": [
    "Dataset Importing"
   ]
  },
  {
   "cell_type": "code",
   "execution_count": 44,
   "metadata": {
    "id": "CHv--AbyI5ju"
   },
   "outputs": [],
   "source": [
    "import json\n",
    "\n",
    "updatedData = '/Users/sahalzulphi/Downloads/ADA Project/updated_products.json'"
   ]
  },
  {
   "cell_type": "code",
   "execution_count": 45,
   "metadata": {
    "id": "gb1uPJFzKFdL"
   },
   "outputs": [],
   "source": [
    "import pandas as pd"
   ]
  },
  {
   "cell_type": "code",
   "execution_count": 46,
   "metadata": {
    "id": "w4lUFj0aX_vD"
   },
   "outputs": [],
   "source": [
    "df = pd.read_json(updatedData)"
   ]
  },
  {
   "cell_type": "code",
   "execution_count": 47,
   "metadata": {
    "colab": {
     "base_uri": "https://localhost:8080/",
     "height": 581
    },
    "id": "VYuvnc9MYFN1",
    "outputId": "247139e0-553e-4987-d178-7a2ffc6e2be2"
   },
   "outputs": [
    {
     "data": {
      "text/html": [
       "<div>\n",
       "<style scoped>\n",
       "    .dataframe tbody tr th:only-of-type {\n",
       "        vertical-align: middle;\n",
       "    }\n",
       "\n",
       "    .dataframe tbody tr th {\n",
       "        vertical-align: top;\n",
       "    }\n",
       "\n",
       "    .dataframe thead th {\n",
       "        text-align: right;\n",
       "    }\n",
       "</style>\n",
       "<table border=\"1\" class=\"dataframe\">\n",
       "  <thead>\n",
       "    <tr style=\"text-align: right;\">\n",
       "      <th></th>\n",
       "      <th>rating</th>\n",
       "      <th>title</th>\n",
       "      <th>text</th>\n",
       "      <th>images</th>\n",
       "      <th>asin</th>\n",
       "      <th>parent_asin</th>\n",
       "      <th>user_id</th>\n",
       "      <th>timestamp</th>\n",
       "      <th>helpful_vote</th>\n",
       "      <th>verified_purchase</th>\n",
       "      <th>category</th>\n",
       "      <th>brand</th>\n",
       "      <th>textid</th>\n",
       "      <th>helpful_vod_purchase</th>\n",
       "      <th>helpfute</th>\n",
       "      <th>timeverified_purchase</th>\n",
       "    </tr>\n",
       "  </thead>\n",
       "  <tbody>\n",
       "    <tr>\n",
       "      <th>0</th>\n",
       "      <td>5</td>\n",
       "      <td>Work great</td>\n",
       "      <td>work great. use a new one every month</td>\n",
       "      <td>[]</td>\n",
       "      <td>B01N0TQ0OH</td>\n",
       "      <td>B01N0TQ0OH</td>\n",
       "      <td>AGKHLEW2SOWHNMFQIJGBECAF7INQ</td>\n",
       "      <td>2018-02-22 16:31:48.692</td>\n",
       "      <td>0.0</td>\n",
       "      <td>1.0</td>\n",
       "      <td>Tools &amp; Home Improvement</td>\n",
       "      <td>Geesta</td>\n",
       "      <td>NaN</td>\n",
       "      <td>NaN</td>\n",
       "      <td>NaN</td>\n",
       "      <td>NaN</td>\n",
       "    </tr>\n",
       "    <tr>\n",
       "      <th>1</th>\n",
       "      <td>5</td>\n",
       "      <td>excellent product</td>\n",
       "      <td>Little on the thin side</td>\n",
       "      <td>[]</td>\n",
       "      <td>B07DD2DMXB</td>\n",
       "      <td>B07DD37QPZ</td>\n",
       "      <td>AHWWLSPCJMALVHDDVSUGICL6RUCA</td>\n",
       "      <td>2022-10-02 21:41:03.446</td>\n",
       "      <td>0.0</td>\n",
       "      <td>1.0</td>\n",
       "      <td>Tools &amp; Home Improvement</td>\n",
       "      <td>Unknown</td>\n",
       "      <td>NaN</td>\n",
       "      <td>NaN</td>\n",
       "      <td>NaN</td>\n",
       "      <td>NaN</td>\n",
       "    </tr>\n",
       "    <tr>\n",
       "      <th>2</th>\n",
       "      <td>5</td>\n",
       "      <td>Happy customer!</td>\n",
       "      <td>Quick delivery, fixed the issue!</td>\n",
       "      <td>[]</td>\n",
       "      <td>B082W3Z9YK</td>\n",
       "      <td>B082W3Z9YK</td>\n",
       "      <td>AHZIJGKEWRTAEOZ673G5B3SNXEGQ</td>\n",
       "      <td>2020-12-06 03:30:35.363</td>\n",
       "      <td>0.0</td>\n",
       "      <td>1.0</td>\n",
       "      <td>Tools &amp; Home Improvement</td>\n",
       "      <td>Unknown</td>\n",
       "      <td>NaN</td>\n",
       "      <td>NaN</td>\n",
       "      <td>NaN</td>\n",
       "      <td>NaN</td>\n",
       "    </tr>\n",
       "    <tr>\n",
       "      <th>3</th>\n",
       "      <td>5</td>\n",
       "      <td>Amazing value</td>\n",
       "      <td>I wasn't sure whether these were worth it or n...</td>\n",
       "      <td>[]</td>\n",
       "      <td>B078W2BJY8</td>\n",
       "      <td>B078W2BJY8</td>\n",
       "      <td>AFGUPTDFAWOHHL4LZDV27ERDNOYQ</td>\n",
       "      <td>2018-08-12 20:03:04.306</td>\n",
       "      <td>0.0</td>\n",
       "      <td>1.0</td>\n",
       "      <td>Amazon Home</td>\n",
       "      <td>FilterLogic</td>\n",
       "      <td>NaN</td>\n",
       "      <td>NaN</td>\n",
       "      <td>NaN</td>\n",
       "      <td>NaN</td>\n",
       "    </tr>\n",
       "    <tr>\n",
       "      <th>4</th>\n",
       "      <td>5</td>\n",
       "      <td>Dryer parts</td>\n",
       "      <td>Easy to install got the product expected to re...</td>\n",
       "      <td>[]</td>\n",
       "      <td>B08C9LPCQV</td>\n",
       "      <td>B08C9LPCQV</td>\n",
       "      <td>AELFJFAXQERUSMTXJQ6SYFFRDWMA</td>\n",
       "      <td>2021-05-05 01:03:23.754</td>\n",
       "      <td>0.0</td>\n",
       "      <td>1.0</td>\n",
       "      <td>Tools &amp; Home Improvement</td>\n",
       "      <td>Unknown</td>\n",
       "      <td>NaN</td>\n",
       "      <td>NaN</td>\n",
       "      <td>NaN</td>\n",
       "      <td>NaN</td>\n",
       "    </tr>\n",
       "  </tbody>\n",
       "</table>\n",
       "</div>"
      ],
      "text/plain": [
       "   rating              title  \\\n",
       "0       5         Work great   \n",
       "1       5  excellent product   \n",
       "2       5    Happy customer!   \n",
       "3       5      Amazing value   \n",
       "4       5        Dryer parts   \n",
       "\n",
       "                                                text images        asin  \\\n",
       "0              work great. use a new one every month     []  B01N0TQ0OH   \n",
       "1                            Little on the thin side     []  B07DD2DMXB   \n",
       "2                   Quick delivery, fixed the issue!     []  B082W3Z9YK   \n",
       "3  I wasn't sure whether these were worth it or n...     []  B078W2BJY8   \n",
       "4  Easy to install got the product expected to re...     []  B08C9LPCQV   \n",
       "\n",
       "  parent_asin                       user_id               timestamp  \\\n",
       "0  B01N0TQ0OH  AGKHLEW2SOWHNMFQIJGBECAF7INQ 2018-02-22 16:31:48.692   \n",
       "1  B07DD37QPZ  AHWWLSPCJMALVHDDVSUGICL6RUCA 2022-10-02 21:41:03.446   \n",
       "2  B082W3Z9YK  AHZIJGKEWRTAEOZ673G5B3SNXEGQ 2020-12-06 03:30:35.363   \n",
       "3  B078W2BJY8  AFGUPTDFAWOHHL4LZDV27ERDNOYQ 2018-08-12 20:03:04.306   \n",
       "4  B08C9LPCQV  AELFJFAXQERUSMTXJQ6SYFFRDWMA 2021-05-05 01:03:23.754   \n",
       "\n",
       "   helpful_vote  verified_purchase                  category        brand  \\\n",
       "0           0.0                1.0  Tools & Home Improvement       Geesta   \n",
       "1           0.0                1.0  Tools & Home Improvement      Unknown   \n",
       "2           0.0                1.0  Tools & Home Improvement      Unknown   \n",
       "3           0.0                1.0               Amazon Home  FilterLogic   \n",
       "4           0.0                1.0  Tools & Home Improvement      Unknown   \n",
       "\n",
       "  textid  helpful_vod_purchase  helpfute  timeverified_purchase  \n",
       "0    NaN                   NaN       NaN                    NaN  \n",
       "1    NaN                   NaN       NaN                    NaN  \n",
       "2    NaN                   NaN       NaN                    NaN  \n",
       "3    NaN                   NaN       NaN                    NaN  \n",
       "4    NaN                   NaN       NaN                    NaN  "
      ]
     },
     "execution_count": 47,
     "metadata": {},
     "output_type": "execute_result"
    }
   ],
   "source": [
    "df.head()"
   ]
  },
  {
   "cell_type": "markdown",
   "metadata": {},
   "source": [
    "Pre-Proccessing and Data Exploration"
   ]
  },
  {
   "cell_type": "code",
   "execution_count": 48,
   "metadata": {
    "colab": {
     "base_uri": "https://localhost:8080/",
     "height": 202
    },
    "id": "gInbntU-KHvt",
    "outputId": "0449dcd5-ad91-42a7-cbf4-7c5b2c0fa3bd"
   },
   "outputs": [
    {
     "data": {
      "text/html": [
       "<div>\n",
       "<style scoped>\n",
       "    .dataframe tbody tr th:only-of-type {\n",
       "        vertical-align: middle;\n",
       "    }\n",
       "\n",
       "    .dataframe tbody tr th {\n",
       "        vertical-align: top;\n",
       "    }\n",
       "\n",
       "    .dataframe thead th {\n",
       "        text-align: right;\n",
       "    }\n",
       "</style>\n",
       "<table border=\"1\" class=\"dataframe\">\n",
       "  <thead>\n",
       "    <tr style=\"text-align: right;\">\n",
       "      <th></th>\n",
       "      <th>rating</th>\n",
       "      <th>title</th>\n",
       "      <th>text</th>\n",
       "      <th>images</th>\n",
       "      <th>asin</th>\n",
       "      <th>parent_asin</th>\n",
       "      <th>user_id</th>\n",
       "      <th>timestamp</th>\n",
       "      <th>helpful_vote</th>\n",
       "      <th>verified_purchase</th>\n",
       "      <th>category</th>\n",
       "      <th>brand</th>\n",
       "      <th>textid</th>\n",
       "      <th>helpful_vod_purchase</th>\n",
       "      <th>helpfute</th>\n",
       "      <th>timeverified_purchase</th>\n",
       "    </tr>\n",
       "  </thead>\n",
       "  <tbody>\n",
       "    <tr>\n",
       "      <th>0</th>\n",
       "      <td>5</td>\n",
       "      <td>Work great</td>\n",
       "      <td>work great. use a new one every month</td>\n",
       "      <td>[]</td>\n",
       "      <td>B01N0TQ0OH</td>\n",
       "      <td>B01N0TQ0OH</td>\n",
       "      <td>AGKHLEW2SOWHNMFQIJGBECAF7INQ</td>\n",
       "      <td>2018-02-22 16:31:48.692</td>\n",
       "      <td>0.0</td>\n",
       "      <td>1.0</td>\n",
       "      <td>Tools &amp; Home Improvement</td>\n",
       "      <td>Geesta</td>\n",
       "      <td>NaN</td>\n",
       "      <td>NaN</td>\n",
       "      <td>NaN</td>\n",
       "      <td>NaN</td>\n",
       "    </tr>\n",
       "  </tbody>\n",
       "</table>\n",
       "</div>"
      ],
      "text/plain": [
       "   rating       title                                   text images  \\\n",
       "0       5  Work great  work great. use a new one every month     []   \n",
       "\n",
       "         asin parent_asin                       user_id  \\\n",
       "0  B01N0TQ0OH  B01N0TQ0OH  AGKHLEW2SOWHNMFQIJGBECAF7INQ   \n",
       "\n",
       "                timestamp  helpful_vote  verified_purchase  \\\n",
       "0 2018-02-22 16:31:48.692           0.0                1.0   \n",
       "\n",
       "                   category   brand textid  helpful_vod_purchase  helpfute  \\\n",
       "0  Tools & Home Improvement  Geesta    NaN                   NaN       NaN   \n",
       "\n",
       "   timeverified_purchase  \n",
       "0                    NaN  "
      ]
     },
     "execution_count": 48,
     "metadata": {},
     "output_type": "execute_result"
    }
   ],
   "source": [
    "df.head(1)"
   ]
  },
  {
   "cell_type": "code",
   "execution_count": 49,
   "metadata": {
    "colab": {
     "base_uri": "https://localhost:8080/"
    },
    "id": "rrnJSjG_LqKr",
    "outputId": "668f31e9-a1fb-4a0e-c8c1-c3cfbb67aa3a"
   },
   "outputs": [
    {
     "name": "stdout",
     "output_type": "stream",
     "text": [
      "310945\n"
     ]
    }
   ],
   "source": [
    "print(len(df['brand']))"
   ]
  },
  {
   "cell_type": "code",
   "execution_count": 50,
   "metadata": {
    "colab": {
     "base_uri": "https://localhost:8080/"
    },
    "id": "r06xzD9RKmiR",
    "outputId": "f2227ed1-6f22-4f2a-ab48-f1d1cde645c6"
   },
   "outputs": [
    {
     "name": "stdout",
     "output_type": "stream",
     "text": [
      "4448\n"
     ]
    }
   ],
   "source": [
    "print(len(df['brand'].unique()))"
   ]
  },
  {
   "cell_type": "code",
   "execution_count": 51,
   "metadata": {
    "id": "gI3KUKxeLHK1"
   },
   "outputs": [],
   "source": [
    "dfNew = df[df['brand'].str.lower() != 'unknown']"
   ]
  },
  {
   "cell_type": "code",
   "execution_count": 52,
   "metadata": {
    "colab": {
     "base_uri": "https://localhost:8080/"
    },
    "id": "QjvQldEOLlCP",
    "outputId": "9989bc38-27cf-4365-b2b3-10296fec47a5"
   },
   "outputs": [
    {
     "name": "stdout",
     "output_type": "stream",
     "text": [
      "215572\n"
     ]
    }
   ],
   "source": [
    "print(len(dfNew['brand']))"
   ]
  },
  {
   "cell_type": "code",
   "execution_count": 53,
   "metadata": {},
   "outputs": [
    {
     "data": {
      "text/plain": [
       "(215572, 16)"
      ]
     },
     "execution_count": 53,
     "metadata": {},
     "output_type": "execute_result"
    }
   ],
   "source": [
    "dfNew.shape"
   ]
  },
  {
   "cell_type": "code",
   "execution_count": 54,
   "metadata": {
    "colab": {
     "base_uri": "https://localhost:8080/"
    },
    "id": "WfBYt93zLomw",
    "outputId": "7669ec6b-99dd-428e-b36f-4fd61a449c7b"
   },
   "outputs": [
    {
     "data": {
      "text/plain": [
       "Index(['rating', 'title', 'text', 'images', 'asin', 'parent_asin', 'user_id',\n",
       "       'timestamp', 'helpful_vote', 'verified_purchase', 'category', 'brand',\n",
       "       'textid', 'helpful_vod_purchase', 'helpfute', 'timeverified_purchase'],\n",
       "      dtype='object')"
      ]
     },
     "execution_count": 54,
     "metadata": {},
     "output_type": "execute_result"
    }
   ],
   "source": [
    "dfNew.columns"
   ]
  },
  {
   "cell_type": "code",
   "execution_count": 55,
   "metadata": {
    "colab": {
     "base_uri": "https://localhost:8080/",
     "height": 579
    },
    "id": "1anvJvO9Lybz",
    "outputId": "4ed4be5f-7663-4876-93bd-b5bc9679990c"
   },
   "outputs": [
    {
     "data": {
      "text/plain": [
       "rating                        0\n",
       "title                         0\n",
       "text                          3\n",
       "images                        5\n",
       "asin                          5\n",
       "parent_asin                   5\n",
       "user_id                       4\n",
       "timestamp                     1\n",
       "helpful_vote                  2\n",
       "verified_purchase             2\n",
       "category                   2669\n",
       "brand                         5\n",
       "textid                   215571\n",
       "helpful_vod_purchase     215571\n",
       "helpfute                 215572\n",
       "timeverified_purchase    215571\n",
       "dtype: int64"
      ]
     },
     "execution_count": 55,
     "metadata": {},
     "output_type": "execute_result"
    }
   ],
   "source": [
    "dfNew.isnull().sum()"
   ]
  },
  {
   "cell_type": "code",
   "execution_count": 56,
   "metadata": {
    "id": "NuUBOOsIMEW1"
   },
   "outputs": [],
   "source": [
    "dfNew = dfNew.drop(columns=['timeverified_purchase','helpfute','helpful_vod_purchase','textid'])"
   ]
  },
  {
   "cell_type": "code",
   "execution_count": 57,
   "metadata": {
    "colab": {
     "base_uri": "https://localhost:8080/",
     "height": 455
    },
    "id": "tnCh0JOyMaJy",
    "outputId": "65310754-21e5-4f88-998f-796f6bfb0182"
   },
   "outputs": [
    {
     "data": {
      "text/plain": [
       "rating                  0\n",
       "title                   0\n",
       "text                    3\n",
       "images                  5\n",
       "asin                    5\n",
       "parent_asin             5\n",
       "user_id                 4\n",
       "timestamp               1\n",
       "helpful_vote            2\n",
       "verified_purchase       2\n",
       "category             2669\n",
       "brand                   5\n",
       "dtype: int64"
      ]
     },
     "execution_count": 57,
     "metadata": {},
     "output_type": "execute_result"
    }
   ],
   "source": [
    "dfNew.isnull().sum()"
   ]
  },
  {
   "cell_type": "code",
   "execution_count": 58,
   "metadata": {},
   "outputs": [],
   "source": [
    "dfNew['Average_Rating'] = dfNew.groupby('brand')['rating'].transform('mean')"
   ]
  },
  {
   "cell_type": "code",
   "execution_count": 59,
   "metadata": {},
   "outputs": [
    {
     "data": {
      "text/html": [
       "<div>\n",
       "<style scoped>\n",
       "    .dataframe tbody tr th:only-of-type {\n",
       "        vertical-align: middle;\n",
       "    }\n",
       "\n",
       "    .dataframe tbody tr th {\n",
       "        vertical-align: top;\n",
       "    }\n",
       "\n",
       "    .dataframe thead th {\n",
       "        text-align: right;\n",
       "    }\n",
       "</style>\n",
       "<table border=\"1\" class=\"dataframe\">\n",
       "  <thead>\n",
       "    <tr style=\"text-align: right;\">\n",
       "      <th></th>\n",
       "      <th>rating</th>\n",
       "      <th>title</th>\n",
       "      <th>text</th>\n",
       "      <th>images</th>\n",
       "      <th>asin</th>\n",
       "      <th>parent_asin</th>\n",
       "      <th>user_id</th>\n",
       "      <th>timestamp</th>\n",
       "      <th>helpful_vote</th>\n",
       "      <th>verified_purchase</th>\n",
       "      <th>category</th>\n",
       "      <th>brand</th>\n",
       "      <th>Average_Rating</th>\n",
       "    </tr>\n",
       "  </thead>\n",
       "  <tbody>\n",
       "    <tr>\n",
       "      <th>0</th>\n",
       "      <td>5</td>\n",
       "      <td>Work great</td>\n",
       "      <td>work great. use a new one every month</td>\n",
       "      <td>[]</td>\n",
       "      <td>B01N0TQ0OH</td>\n",
       "      <td>B01N0TQ0OH</td>\n",
       "      <td>AGKHLEW2SOWHNMFQIJGBECAF7INQ</td>\n",
       "      <td>2018-02-22 16:31:48.692</td>\n",
       "      <td>0.0</td>\n",
       "      <td>1.0</td>\n",
       "      <td>Tools &amp; Home Improvement</td>\n",
       "      <td>Geesta</td>\n",
       "      <td>4.629523</td>\n",
       "    </tr>\n",
       "    <tr>\n",
       "      <th>3</th>\n",
       "      <td>5</td>\n",
       "      <td>Amazing value</td>\n",
       "      <td>I wasn't sure whether these were worth it or n...</td>\n",
       "      <td>[]</td>\n",
       "      <td>B078W2BJY8</td>\n",
       "      <td>B078W2BJY8</td>\n",
       "      <td>AFGUPTDFAWOHHL4LZDV27ERDNOYQ</td>\n",
       "      <td>2018-08-12 20:03:04.306</td>\n",
       "      <td>0.0</td>\n",
       "      <td>1.0</td>\n",
       "      <td>Amazon Home</td>\n",
       "      <td>FilterLogic</td>\n",
       "      <td>4.651865</td>\n",
       "    </tr>\n",
       "    <tr>\n",
       "      <th>5</th>\n",
       "      <td>5</td>\n",
       "      <td>DO NOT purchase this ice machine.</td>\n",
       "      <td>After buying this ice machine just 15 months a...</td>\n",
       "      <td>[]</td>\n",
       "      <td>B08D6RFV6D</td>\n",
       "      <td>B099ZKQJHK</td>\n",
       "      <td>AEUH4EH6XHROLT7UZPUYU2YKTYMA</td>\n",
       "      <td>2022-09-13 14:21:18.875</td>\n",
       "      <td>0.0</td>\n",
       "      <td>1.0</td>\n",
       "      <td>Industrial &amp; Scientific</td>\n",
       "      <td>COOLLIFE</td>\n",
       "      <td>3.727273</td>\n",
       "    </tr>\n",
       "    <tr>\n",
       "      <th>7</th>\n",
       "      <td>5</td>\n",
       "      <td>Five Stars</td>\n",
       "      <td>Part came quickly and fit my LG dryer.  Thanks!</td>\n",
       "      <td>[]</td>\n",
       "      <td>B00AF7WZTM</td>\n",
       "      <td>B00AF7WZTM</td>\n",
       "      <td>AH6PLOGWYIVIWLJTY756BHNFD4YA</td>\n",
       "      <td>2016-11-28 11:58:20.000</td>\n",
       "      <td>0.0</td>\n",
       "      <td>1.0</td>\n",
       "      <td>Appliances</td>\n",
       "      <td>LG</td>\n",
       "      <td>4.377246</td>\n",
       "    </tr>\n",
       "    <tr>\n",
       "      <th>8</th>\n",
       "      <td>5</td>\n",
       "      <td>Five Stars</td>\n",
       "      <td>Always arrive in a fast manner.  Descriptions ...</td>\n",
       "      <td>[]</td>\n",
       "      <td>B001H05AXY</td>\n",
       "      <td>B001H05AXY</td>\n",
       "      <td>AGCIVNDDRX3PXIUINEG4NCRGWCRA</td>\n",
       "      <td>2015-03-23 17:14:10.000</td>\n",
       "      <td>0.0</td>\n",
       "      <td>1.0</td>\n",
       "      <td>Tools &amp; Home Improvement</td>\n",
       "      <td>AMANA</td>\n",
       "      <td>3.446809</td>\n",
       "    </tr>\n",
       "  </tbody>\n",
       "</table>\n",
       "</div>"
      ],
      "text/plain": [
       "   rating                              title  \\\n",
       "0       5                         Work great   \n",
       "3       5                      Amazing value   \n",
       "5       5  DO NOT purchase this ice machine.   \n",
       "7       5                         Five Stars   \n",
       "8       5                         Five Stars   \n",
       "\n",
       "                                                text images        asin  \\\n",
       "0              work great. use a new one every month     []  B01N0TQ0OH   \n",
       "3  I wasn't sure whether these were worth it or n...     []  B078W2BJY8   \n",
       "5  After buying this ice machine just 15 months a...     []  B08D6RFV6D   \n",
       "7    Part came quickly and fit my LG dryer.  Thanks!     []  B00AF7WZTM   \n",
       "8  Always arrive in a fast manner.  Descriptions ...     []  B001H05AXY   \n",
       "\n",
       "  parent_asin                       user_id               timestamp  \\\n",
       "0  B01N0TQ0OH  AGKHLEW2SOWHNMFQIJGBECAF7INQ 2018-02-22 16:31:48.692   \n",
       "3  B078W2BJY8  AFGUPTDFAWOHHL4LZDV27ERDNOYQ 2018-08-12 20:03:04.306   \n",
       "5  B099ZKQJHK  AEUH4EH6XHROLT7UZPUYU2YKTYMA 2022-09-13 14:21:18.875   \n",
       "7  B00AF7WZTM  AH6PLOGWYIVIWLJTY756BHNFD4YA 2016-11-28 11:58:20.000   \n",
       "8  B001H05AXY  AGCIVNDDRX3PXIUINEG4NCRGWCRA 2015-03-23 17:14:10.000   \n",
       "\n",
       "   helpful_vote  verified_purchase                  category        brand  \\\n",
       "0           0.0                1.0  Tools & Home Improvement       Geesta   \n",
       "3           0.0                1.0               Amazon Home  FilterLogic   \n",
       "5           0.0                1.0   Industrial & Scientific     COOLLIFE   \n",
       "7           0.0                1.0                Appliances           LG   \n",
       "8           0.0                1.0  Tools & Home Improvement        AMANA   \n",
       "\n",
       "   Average_Rating  \n",
       "0        4.629523  \n",
       "3        4.651865  \n",
       "5        3.727273  \n",
       "7        4.377246  \n",
       "8        3.446809  "
      ]
     },
     "execution_count": 59,
     "metadata": {},
     "output_type": "execute_result"
    }
   ],
   "source": [
    "dfNew.head()"
   ]
  },
  {
   "cell_type": "code",
   "execution_count": 60,
   "metadata": {},
   "outputs": [
    {
     "name": "stdout",
     "output_type": "stream",
     "text": [
      "<class 'pandas.core.frame.DataFrame'>\n",
      "Index: 215572 entries, 0 to 310944\n",
      "Data columns (total 13 columns):\n",
      " #   Column             Non-Null Count   Dtype         \n",
      "---  ------             --------------   -----         \n",
      " 0   rating             215572 non-null  int64         \n",
      " 1   title              215572 non-null  object        \n",
      " 2   text               215569 non-null  object        \n",
      " 3   images             215567 non-null  object        \n",
      " 4   asin               215567 non-null  object        \n",
      " 5   parent_asin        215567 non-null  object        \n",
      " 6   user_id            215568 non-null  object        \n",
      " 7   timestamp          215571 non-null  datetime64[ns]\n",
      " 8   helpful_vote       215570 non-null  float64       \n",
      " 9   verified_purchase  215570 non-null  float64       \n",
      " 10  category           212903 non-null  object        \n",
      " 11  brand              215567 non-null  object        \n",
      " 12  Average_Rating     215567 non-null  float64       \n",
      "dtypes: datetime64[ns](1), float64(3), int64(1), object(8)\n",
      "memory usage: 23.0+ MB\n"
     ]
    }
   ],
   "source": [
    "dfNew.info()"
   ]
  },
  {
   "cell_type": "markdown",
   "metadata": {},
   "source": [
    "Sentiment Calculation"
   ]
  },
  {
   "cell_type": "code",
   "execution_count": 61,
   "metadata": {},
   "outputs": [],
   "source": [
    "dfNew['sentiment'] = dfNew['rating'].apply(lambda x: 1 if x > 3 else 0)"
   ]
  },
  {
   "cell_type": "code",
   "execution_count": 62,
   "metadata": {},
   "outputs": [
    {
     "data": {
      "text/html": [
       "<div>\n",
       "<style scoped>\n",
       "    .dataframe tbody tr th:only-of-type {\n",
       "        vertical-align: middle;\n",
       "    }\n",
       "\n",
       "    .dataframe tbody tr th {\n",
       "        vertical-align: top;\n",
       "    }\n",
       "\n",
       "    .dataframe thead th {\n",
       "        text-align: right;\n",
       "    }\n",
       "</style>\n",
       "<table border=\"1\" class=\"dataframe\">\n",
       "  <thead>\n",
       "    <tr style=\"text-align: right;\">\n",
       "      <th></th>\n",
       "      <th>rating</th>\n",
       "      <th>title</th>\n",
       "      <th>text</th>\n",
       "      <th>images</th>\n",
       "      <th>asin</th>\n",
       "      <th>parent_asin</th>\n",
       "      <th>user_id</th>\n",
       "      <th>timestamp</th>\n",
       "      <th>helpful_vote</th>\n",
       "      <th>verified_purchase</th>\n",
       "      <th>category</th>\n",
       "      <th>brand</th>\n",
       "      <th>Average_Rating</th>\n",
       "      <th>sentiment</th>\n",
       "    </tr>\n",
       "  </thead>\n",
       "  <tbody>\n",
       "    <tr>\n",
       "      <th>0</th>\n",
       "      <td>5</td>\n",
       "      <td>Work great</td>\n",
       "      <td>work great. use a new one every month</td>\n",
       "      <td>[]</td>\n",
       "      <td>B01N0TQ0OH</td>\n",
       "      <td>B01N0TQ0OH</td>\n",
       "      <td>AGKHLEW2SOWHNMFQIJGBECAF7INQ</td>\n",
       "      <td>2018-02-22 16:31:48.692</td>\n",
       "      <td>0.0</td>\n",
       "      <td>1.0</td>\n",
       "      <td>Tools &amp; Home Improvement</td>\n",
       "      <td>Geesta</td>\n",
       "      <td>4.629523</td>\n",
       "      <td>1</td>\n",
       "    </tr>\n",
       "    <tr>\n",
       "      <th>3</th>\n",
       "      <td>5</td>\n",
       "      <td>Amazing value</td>\n",
       "      <td>I wasn't sure whether these were worth it or n...</td>\n",
       "      <td>[]</td>\n",
       "      <td>B078W2BJY8</td>\n",
       "      <td>B078W2BJY8</td>\n",
       "      <td>AFGUPTDFAWOHHL4LZDV27ERDNOYQ</td>\n",
       "      <td>2018-08-12 20:03:04.306</td>\n",
       "      <td>0.0</td>\n",
       "      <td>1.0</td>\n",
       "      <td>Amazon Home</td>\n",
       "      <td>FilterLogic</td>\n",
       "      <td>4.651865</td>\n",
       "      <td>1</td>\n",
       "    </tr>\n",
       "    <tr>\n",
       "      <th>5</th>\n",
       "      <td>5</td>\n",
       "      <td>DO NOT purchase this ice machine.</td>\n",
       "      <td>After buying this ice machine just 15 months a...</td>\n",
       "      <td>[]</td>\n",
       "      <td>B08D6RFV6D</td>\n",
       "      <td>B099ZKQJHK</td>\n",
       "      <td>AEUH4EH6XHROLT7UZPUYU2YKTYMA</td>\n",
       "      <td>2022-09-13 14:21:18.875</td>\n",
       "      <td>0.0</td>\n",
       "      <td>1.0</td>\n",
       "      <td>Industrial &amp; Scientific</td>\n",
       "      <td>COOLLIFE</td>\n",
       "      <td>3.727273</td>\n",
       "      <td>1</td>\n",
       "    </tr>\n",
       "    <tr>\n",
       "      <th>7</th>\n",
       "      <td>5</td>\n",
       "      <td>Five Stars</td>\n",
       "      <td>Part came quickly and fit my LG dryer.  Thanks!</td>\n",
       "      <td>[]</td>\n",
       "      <td>B00AF7WZTM</td>\n",
       "      <td>B00AF7WZTM</td>\n",
       "      <td>AH6PLOGWYIVIWLJTY756BHNFD4YA</td>\n",
       "      <td>2016-11-28 11:58:20.000</td>\n",
       "      <td>0.0</td>\n",
       "      <td>1.0</td>\n",
       "      <td>Appliances</td>\n",
       "      <td>LG</td>\n",
       "      <td>4.377246</td>\n",
       "      <td>1</td>\n",
       "    </tr>\n",
       "    <tr>\n",
       "      <th>8</th>\n",
       "      <td>5</td>\n",
       "      <td>Five Stars</td>\n",
       "      <td>Always arrive in a fast manner.  Descriptions ...</td>\n",
       "      <td>[]</td>\n",
       "      <td>B001H05AXY</td>\n",
       "      <td>B001H05AXY</td>\n",
       "      <td>AGCIVNDDRX3PXIUINEG4NCRGWCRA</td>\n",
       "      <td>2015-03-23 17:14:10.000</td>\n",
       "      <td>0.0</td>\n",
       "      <td>1.0</td>\n",
       "      <td>Tools &amp; Home Improvement</td>\n",
       "      <td>AMANA</td>\n",
       "      <td>3.446809</td>\n",
       "      <td>1</td>\n",
       "    </tr>\n",
       "  </tbody>\n",
       "</table>\n",
       "</div>"
      ],
      "text/plain": [
       "   rating                              title  \\\n",
       "0       5                         Work great   \n",
       "3       5                      Amazing value   \n",
       "5       5  DO NOT purchase this ice machine.   \n",
       "7       5                         Five Stars   \n",
       "8       5                         Five Stars   \n",
       "\n",
       "                                                text images        asin  \\\n",
       "0              work great. use a new one every month     []  B01N0TQ0OH   \n",
       "3  I wasn't sure whether these were worth it or n...     []  B078W2BJY8   \n",
       "5  After buying this ice machine just 15 months a...     []  B08D6RFV6D   \n",
       "7    Part came quickly and fit my LG dryer.  Thanks!     []  B00AF7WZTM   \n",
       "8  Always arrive in a fast manner.  Descriptions ...     []  B001H05AXY   \n",
       "\n",
       "  parent_asin                       user_id               timestamp  \\\n",
       "0  B01N0TQ0OH  AGKHLEW2SOWHNMFQIJGBECAF7INQ 2018-02-22 16:31:48.692   \n",
       "3  B078W2BJY8  AFGUPTDFAWOHHL4LZDV27ERDNOYQ 2018-08-12 20:03:04.306   \n",
       "5  B099ZKQJHK  AEUH4EH6XHROLT7UZPUYU2YKTYMA 2022-09-13 14:21:18.875   \n",
       "7  B00AF7WZTM  AH6PLOGWYIVIWLJTY756BHNFD4YA 2016-11-28 11:58:20.000   \n",
       "8  B001H05AXY  AGCIVNDDRX3PXIUINEG4NCRGWCRA 2015-03-23 17:14:10.000   \n",
       "\n",
       "   helpful_vote  verified_purchase                  category        brand  \\\n",
       "0           0.0                1.0  Tools & Home Improvement       Geesta   \n",
       "3           0.0                1.0               Amazon Home  FilterLogic   \n",
       "5           0.0                1.0   Industrial & Scientific     COOLLIFE   \n",
       "7           0.0                1.0                Appliances           LG   \n",
       "8           0.0                1.0  Tools & Home Improvement        AMANA   \n",
       "\n",
       "   Average_Rating  sentiment  \n",
       "0        4.629523          1  \n",
       "3        4.651865          1  \n",
       "5        3.727273          1  \n",
       "7        4.377246          1  \n",
       "8        3.446809          1  "
      ]
     },
     "execution_count": 62,
     "metadata": {},
     "output_type": "execute_result"
    }
   ],
   "source": [
    "dfNew.head()"
   ]
  },
  {
   "cell_type": "code",
   "execution_count": 63,
   "metadata": {},
   "outputs": [
    {
     "name": "stdout",
     "output_type": "stream",
     "text": [
      "Requirement already satisfied: matplotlib in /Library/Frameworks/Python.framework/Versions/3.12/lib/python3.12/site-packages (3.9.2)\n",
      "Requirement already satisfied: contourpy>=1.0.1 in /Library/Frameworks/Python.framework/Versions/3.12/lib/python3.12/site-packages (from matplotlib) (1.2.1)\n",
      "Requirement already satisfied: cycler>=0.10 in /Library/Frameworks/Python.framework/Versions/3.12/lib/python3.12/site-packages (from matplotlib) (0.12.1)\n",
      "Requirement already satisfied: fonttools>=4.22.0 in /Library/Frameworks/Python.framework/Versions/3.12/lib/python3.12/site-packages (from matplotlib) (4.53.1)\n",
      "Requirement already satisfied: kiwisolver>=1.3.1 in /Library/Frameworks/Python.framework/Versions/3.12/lib/python3.12/site-packages (from matplotlib) (1.4.5)\n",
      "Requirement already satisfied: numpy>=1.23 in /Library/Frameworks/Python.framework/Versions/3.12/lib/python3.12/site-packages (from matplotlib) (1.26.4)\n",
      "Requirement already satisfied: packaging>=20.0 in /Users/sahalzulphi/Library/Python/3.12/lib/python/site-packages (from matplotlib) (24.1)\n",
      "Requirement already satisfied: pillow>=8 in /Library/Frameworks/Python.framework/Versions/3.12/lib/python3.12/site-packages (from matplotlib) (10.4.0)\n",
      "Requirement already satisfied: pyparsing>=2.3.1 in /Library/Frameworks/Python.framework/Versions/3.12/lib/python3.12/site-packages (from matplotlib) (3.1.2)\n",
      "Requirement already satisfied: python-dateutil>=2.7 in /Users/sahalzulphi/Library/Python/3.12/lib/python/site-packages (from matplotlib) (2.9.0.post0)\n",
      "Requirement already satisfied: six>=1.5 in /Users/sahalzulphi/Library/Python/3.12/lib/python/site-packages (from python-dateutil>=2.7->matplotlib) (1.16.0)\n",
      "Note: you may need to restart the kernel to use updated packages.\n"
     ]
    }
   ],
   "source": [
    "pip install matplotlib"
   ]
  },
  {
   "cell_type": "markdown",
   "metadata": {},
   "source": [
    "Data Visualization"
   ]
  },
  {
   "cell_type": "code",
   "execution_count": 64,
   "metadata": {},
   "outputs": [],
   "source": [
    "import matplotlib.pyplot as plt\n",
    "brand_avg_rating = dfNew.groupby('brand')['Average_Rating'].mean().sort_values(ascending=False)"
   ]
  },
  {
   "cell_type": "code",
   "execution_count": 65,
   "metadata": {},
   "outputs": [
    {
     "data": {
      "image/png": "[encoded data removed]",
      "text/plain": [
       "<Figure size 1000x600 with 1 Axes>"
      ]
     },
     "metadata": {},
     "output_type": "display_data"
    }
   ],
   "source": [
    "topBrands = brand_avg_rating.head(10)\n",
    "\n",
    "plt.figure(figsize=(10, 6))\n",
    "topBrands.plot(kind='bar', color='skyblue')\n",
    "plt.title('Top 10 Brands with Highest Average Rating')\n",
    "plt.xlabel('Brand')\n",
    "plt.ylabel('Average Rating')\n",
    "plt.xticks(rotation=45)\n",
    "plt.show()"
   ]
  },
  {
   "cell_type": "code",
   "execution_count": 66,
   "metadata": {},
   "outputs": [
    {
     "data": {
      "image/png": "[encoded data removed]",
      "text/plain": [
       "<Figure size 1000x600 with 1 Axes>"
      ]
     },
     "metadata": {},
     "output_type": "display_data"
    }
   ],
   "source": [
    "lastBrands = brand_avg_rating.tail(10)\n",
    "\n",
    "plt.figure(figsize=(10, 6))\n",
    "lastBrands.plot(kind='bar', color='skyblue')\n",
    "plt.title('Top 10 Brands with Highest Average Rating')\n",
    "plt.xlabel('Brand')\n",
    "plt.ylabel('Average Rating')\n",
    "plt.xticks(rotation=45)\n",
    "plt.show()"
   ]
  },
  {
   "cell_type": "code",
   "execution_count": 67,
   "metadata": {},
   "outputs": [
    {
     "name": "stdout",
     "output_type": "stream",
     "text": [
      "Top 5 brands with the most 5-star ratings:\n",
      "brand\n",
      "GE            5151\n",
      "Frigidaire    5053\n",
      "Whirlpool     5049\n",
      "Waterdrop     5048\n",
      "K&J           3338\n",
      "Name: rating, dtype: int64\n"
     ]
    }
   ],
   "source": [
    "fiveRating = dfNew[dfNew['rating'] == 5]\n",
    "\n",
    "fiveRatingCount = fiveRating.groupby('brand')['rating'].count()\n",
    "fiveRating5 = fiveRatingCount.sort_values(ascending=False).head(5)\n",
    "print(\"Top 5 brands with the most 5-star ratings:\")\n",
    "print(fiveRating5)"
   ]
  },
  {
   "cell_type": "code",
   "execution_count": 68,
   "metadata": {},
   "outputs": [
    {
     "name": "stdout",
     "output_type": "stream",
     "text": [
      "Top 5 brands with the most 1-star ratings:\n",
      "brand\n",
      "Frigidaire    662\n",
      "GE            504\n",
      "SAMSUNG       478\n",
      "Waterdrop     318\n",
      "Whirlpool     315\n",
      "Name: rating, dtype: int64\n"
     ]
    }
   ],
   "source": [
    "fiveRating = dfNew[dfNew['rating'] == 1]\n",
    "\n",
    "fiveRatingCount = fiveRating.groupby('brand')['rating'].count()\n",
    "fiveRating5 = fiveRatingCount.sort_values(ascending=False).head(5)\n",
    "print(\"Top 5 brands with the most 1-star ratings:\")\n",
    "print(fiveRating5)"
   ]
  },
  {
   "cell_type": "code",
   "execution_count": 69,
   "metadata": {},
   "outputs": [
    {
     "data": {
      "image/png": "[encoded data removed]",
      "text/plain": [
       "<Figure size 1000x500 with 1 Axes>"
      ]
     },
     "metadata": {},
     "output_type": "display_data"
    }
   ],
   "source": [
    "positiveSentiment = dfNew[dfNew['sentiment'] == 1]\n",
    "positiveSentiment5 = positiveSentiment.groupby('brand').size().sort_values(ascending=False).head(5)\n",
    "\n",
    "plt.figure(figsize=(10, 5))\n",
    "positiveSentiment5.plot(kind='bar', color='green')\n",
    "plt.title('Top 5 Brands with Most Positive Sentiment')\n",
    "plt.xlabel('Brand')\n",
    "plt.ylabel('Number of Positive Reviews')\n",
    "plt.xticks(rotation=45)\n",
    "plt.show()\n",
    "\n",
    "\n"
   ]
  },
  {
   "cell_type": "code",
   "execution_count": 70,
   "metadata": {},
   "outputs": [
    {
     "data": {
      "image/png": "[encoded data removed]",
      "text/plain": [
       "<Figure size 1000x500 with 1 Axes>"
      ]
     },
     "metadata": {},
     "output_type": "display_data"
    }
   ],
   "source": [
    "negativeSentiment = dfNew[dfNew['sentiment'] == 0]\n",
    "negativeSentiment = negativeSentiment.groupby('brand').size().sort_values(ascending=False).head(5)\n",
    "\n",
    "plt.figure(figsize=(10, 5))\n",
    "negativeSentiment.plot(kind='bar', color='red')\n",
    "plt.title('Top 5 Brands with Most Negative Sentiment')\n",
    "plt.xlabel('Brand')\n",
    "plt.ylabel('Number of Negative Reviews')\n",
    "plt.xticks(rotation=45)\n",
    "plt.show()"
   ]
  },
  {
   "cell_type": "code",
   "execution_count": 71,
   "metadata": {},
   "outputs": [
    {
     "name": "stdout",
     "output_type": "stream",
     "text": [
      "         brand                   category  count\n",
      "0   Frigidaire            All Electronics      6\n",
      "1   Frigidaire                Amazon Home     94\n",
      "2   Frigidaire                 Appliances   4637\n",
      "3   Frigidaire    Industrial & Scientific      6\n",
      "4   Frigidaire            Office Products     10\n",
      "5   Frigidaire   Tools & Home Improvement   2186\n",
      "6           GE                Amazon Home     48\n",
      "7           GE                 Appliances   2443\n",
      "8           GE    Industrial & Scientific     11\n",
      "9           GE   Tools & Home Improvement   4395\n",
      "10     SAMSUNG            All Electronics      3\n",
      "11     SAMSUNG                Amazon Home     30\n",
      "12     SAMSUNG                 Appliances    852\n",
      "13     SAMSUNG                 Automotive      2\n",
      "14     SAMSUNG             Camera & Photo      2\n",
      "15     SAMSUNG  Cell Phones & Accessories      2\n",
      "16     SAMSUNG       Home Audio & Theater     12\n",
      "17     SAMSUNG    Industrial & Scientific      4\n",
      "18     SAMSUNG   Tools & Home Improvement   2962\n",
      "19   Waterdrop                Amazon Home    590\n",
      "20   Waterdrop                 Appliances    765\n",
      "21   Waterdrop            Office Products     14\n",
      "22   Waterdrop   Tools & Home Improvement   4800\n",
      "23   Whirlpool            All Electronics      3\n",
      "24   Whirlpool                Amazon Home     45\n",
      "25   Whirlpool                 Appliances   1794\n",
      "26   Whirlpool                 Automotive      8\n",
      "27   Whirlpool    Industrial & Scientific     25\n",
      "28   Whirlpool   Tools & Home Improvement   4583\n"
     ]
    }
   ],
   "source": [
    "top_5_brands_df = dfNew[dfNew['brand'].isin(fiveRating5.index)]\n",
    "top_5_brands_category = top_5_brands_df.groupby(['brand', 'category']).size()\n",
    "top_5_brands_category_df = top_5_brands_category.reset_index(name='count')\n",
    "print(top_5_brands_category_df)\n"
   ]
  },
  {
   "cell_type": "code",
   "execution_count": 72,
   "metadata": {},
   "outputs": [
    {
     "name": "stdout",
     "output_type": "stream",
     "text": [
      "         brand                  category  count\n",
      "0   Frigidaire           All Electronics      2\n",
      "1   Frigidaire               Amazon Home     20\n",
      "2   Frigidaire                Appliances    479\n",
      "3   Frigidaire   Industrial & Scientific      2\n",
      "4   Frigidaire           Office Products      2\n",
      "5   Frigidaire  Tools & Home Improvement    127\n",
      "6           GE               Amazon Home      8\n",
      "7           GE                Appliances    259\n",
      "8           GE   Industrial & Scientific      2\n",
      "9           GE  Tools & Home Improvement    224\n",
      "10     SAMSUNG           All Electronics      1\n",
      "11     SAMSUNG               Amazon Home     14\n",
      "12     SAMSUNG                Appliances    213\n",
      "13     SAMSUNG  Tools & Home Improvement    245\n",
      "14   Waterdrop               Amazon Home     35\n",
      "15   Waterdrop                Appliances     35\n",
      "16   Waterdrop           Office Products      2\n",
      "17   Waterdrop  Tools & Home Improvement    246\n",
      "18   Whirlpool           All Electronics      2\n",
      "19   Whirlpool               Amazon Home     11\n",
      "20   Whirlpool                Appliances    134\n",
      "21   Whirlpool                Automotive      2\n",
      "22   Whirlpool   Industrial & Scientific      2\n",
      "23   Whirlpool  Tools & Home Improvement    156\n"
     ]
    }
   ],
   "source": [
    "top_5_brands_df = dfNew[dfNew['brand'].isin(fiveRating5.index)]\n",
    "min_ratings = top_5_brands_df.groupby('brand')['rating'].min()\n",
    "worst_rated_products = top_5_brands_df[top_5_brands_df.apply(lambda x: x['rating'] == min_ratings[x['brand']], axis=1)]\n",
    "worst_rated_categories = worst_rated_products.groupby(['brand', 'category']).size().reset_index(name='count')\n",
    "print(worst_rated_categories)\n"
   ]
  },
  {
   "cell_type": "code",
   "execution_count": 105,
   "metadata": {},
   "outputs": [
    {
     "name": "stdout",
     "output_type": "stream",
     "text": [
      "categories and their rating counts : \n",
      "rating                           1     2     3     4      5\n",
      "category                                                   \n",
      "AMAZON FASHION                   3     4     2    14     71\n",
      "All Beauty                       4     0     6    10     31\n",
      "All Electronics                 25     8    17    21    221\n",
      "Amazon Home                   6149  2946  4551  8723  59072\n",
      "Appliances                    6361  2328  3380  7180  40037\n",
      "Arts, Crafts & Sewing            0     0     0     1     15\n",
      "Automotive                     109    34    67   133    838\n",
      "Baby                            47    36    49    71    226\n",
      "Camera & Photo                  41    13    13    27    231\n",
      "Cell Phones & Accessories       21     9    15    23    112\n",
      "Computers                        0     0     0     4     41\n",
      "Grocery                        112    47   103   186   1494\n",
      "Health & Personal Care          45    21    29    78    484\n",
      "Home Audio & Theater             9    10     4     0     57\n",
      "Industrial & Scientific        766   320   501  1083   7136\n",
      "Musical Instruments              4     0     7    14     41\n",
      "Office Products                 12    11    19    43    276\n",
      "Pet Supplies                     7     8     6    15    104\n",
      "Portable Audio & Accessories     1     0     3     4     21\n",
      "Sports & Outdoors               51    49    46   106    535\n",
      "Tools & Home Improvement      3798  1497  2596  5926  41817\n",
      "Toys & Games                     4     0     0     9     48\n"
     ]
    }
   ],
   "source": [
    "category_rating_counts = dfNew.groupby(['category', 'rating']).size().unstack(fill_value=0)\n",
    "print(\"categories and their rating counts : \")\n",
    "print(category_rating_counts)"
   ]
  },
  {
   "cell_type": "code",
   "execution_count": 74,
   "metadata": {},
   "outputs": [
    {
     "data": {
      "text/plain": [
       "Index(['rating', 'title', 'text', 'images', 'asin', 'parent_asin', 'user_id',\n",
       "       'timestamp', 'helpful_vote', 'verified_purchase', 'category', 'brand',\n",
       "       'Average_Rating', 'sentiment'],\n",
       "      dtype='object')"
      ]
     },
     "execution_count": 74,
     "metadata": {},
     "output_type": "execute_result"
    }
   ],
   "source": [
    "dfNew.columns"
   ]
  },
  {
   "cell_type": "code",
   "execution_count": 75,
   "metadata": {
    "id": "D7XD0HQRMmBq"
   },
   "outputs": [],
   "source": [
    "y = dfNew['sentiment']"
   ]
  },
  {
   "cell_type": "code",
   "execution_count": 76,
   "metadata": {},
   "outputs": [
    {
     "data": {
      "text/plain": [
       "0         1\n",
       "3         1\n",
       "5         1\n",
       "7         1\n",
       "8         1\n",
       "         ..\n",
       "310940    1\n",
       "310941    1\n",
       "310942    1\n",
       "310943    1\n",
       "310944    1\n",
       "Name: sentiment, Length: 215572, dtype: int64"
      ]
     },
     "execution_count": 76,
     "metadata": {},
     "output_type": "execute_result"
    }
   ],
   "source": [
    "y"
   ]
  },
  {
   "cell_type": "code",
   "execution_count": 77,
   "metadata": {
    "id": "C4laS1v-NnTJ"
   },
   "outputs": [],
   "source": [
    "from sklearn.feature_extraction.text import TfidfVectorizer\n",
    "vectorizer = TfidfVectorizer()\n",
    "X = vectorizer.fit_transform(dfNew['text'].fillna(''))"
   ]
  },
  {
   "cell_type": "code",
   "execution_count": 78,
   "metadata": {
    "id": "ktYlTOjCNzei"
   },
   "outputs": [],
   "source": [
    "from sklearn.model_selection import train_test_split\n",
    "\n",
    "X_train, X_test, y_train, y_test = train_test_split(X, y, test_size=0.2, random_state=42)"
   ]
  },
  {
   "cell_type": "markdown",
   "metadata": {},
   "source": [
    "Logistic Regression"
   ]
  },
  {
   "cell_type": "code",
   "execution_count": 79,
   "metadata": {
    "colab": {
     "base_uri": "https://localhost:8080/"
    },
    "id": "yNFLOdzINnrd",
    "outputId": "27665320-85f5-49b0-bb82-c0e07cea7eef"
   },
   "outputs": [],
   "source": [
    "from sklearn.linear_model import LogisticRegression\n",
    "# Model training\n",
    "modelLR = LogisticRegression()\n",
    "modelLR.fit(X_train, y_train)\n",
    "\n",
    "# Predictions\n",
    "y_predLR = modelLR.predict(X_test)"
   ]
  },
  {
   "cell_type": "code",
   "execution_count": 80,
   "metadata": {
    "colab": {
     "base_uri": "https://localhost:8080/"
    },
    "id": "D6CwFN31N4QO",
    "outputId": "aab00a56-d913-446b-fdef-828ae791dcd2"
   },
   "outputs": [
    {
     "name": "stdout",
     "output_type": "stream",
     "text": [
      "Accuracy: 0.912884147048591\n",
      "Precision: 0.9279102835832909\n",
      "Recall: 0.9700182302622353\n",
      "F1 Score: 0.9484971478718737\n",
      "ROC-AUC: 0.8049152813509568\n"
     ]
    }
   ],
   "source": [
    "from sklearn.metrics import accuracy_score, precision_score, recall_score, f1_score, roc_auc_score\n",
    "accuracyLR = accuracy_score(y_test, y_predLR)\n",
    "precisionLR = precision_score(y_test, y_predLR)\n",
    "recallLR = recall_score(y_test, y_predLR)\n",
    "f1LR = f1_score(y_test, y_predLR)\n",
    "roc_aucLR = roc_auc_score(y_test, y_predLR)\n",
    "\n",
    "print(f\"Accuracy: {accuracyLR}\")\n",
    "print(f\"Precision: {precisionLR}\")\n",
    "print(f\"Recall: {recallLR}\")\n",
    "print(f\"F1 Score: {f1LR}\")\n",
    "print(f\"ROC-AUC: {roc_aucLR}\")"
   ]
  },
  {
   "cell_type": "markdown",
   "metadata": {},
   "source": [
    "Random Forrest Classifier"
   ]
  },
  {
   "cell_type": "code",
   "execution_count": 81,
   "metadata": {},
   "outputs": [],
   "source": [
    "from sklearn.ensemble import RandomForestClassifier\n",
    "# Model training\n",
    "modelRF = RandomForestClassifier()\n",
    "modelRF.fit(X_train, y_train)\n",
    "\n",
    "# Predictions\n",
    "y_predRF = modelRF.predict(X_test)"
   ]
  },
  {
   "cell_type": "code",
   "execution_count": 82,
   "metadata": {},
   "outputs": [
    {
     "name": "stdout",
     "output_type": "stream",
     "text": [
      "Accuracy: 0.9632610460396613\n",
      "Precision: 0.9592150308650296\n",
      "Recall: 0.9980086944327584\n",
      "F1 Score: 0.9782274026830877\n",
      "ROC-AUC: 0.8975968405139663\n"
     ]
    }
   ],
   "source": [
    "accuracyRF = accuracy_score(y_test, y_predRF)\n",
    "precisionRF = precision_score(y_test, y_predRF)\n",
    "recallRF = recall_score(y_test, y_predRF)\n",
    "f1RF = f1_score(y_test, y_predRF)\n",
    "roc_aucRF = roc_auc_score(y_test, y_predRF)\n",
    "\n",
    "print(f\"Accuracy: {accuracyRF}\")\n",
    "print(f\"Precision: {precisionRF}\")\n",
    "print(f\"Recall: {recallRF}\")\n",
    "print(f\"F1 Score: {f1RF}\")\n",
    "print(f\"ROC-AUC: {roc_aucRF}\")"
   ]
  },
  {
   "cell_type": "markdown",
   "metadata": {},
   "source": [
    "Gradient Boost Classifier"
   ]
  },
  {
   "cell_type": "code",
   "execution_count": 83,
   "metadata": {},
   "outputs": [],
   "source": [
    "from sklearn.ensemble import GradientBoostingClassifier\n",
    "\n",
    "\n",
    "modelGB = GradientBoostingClassifier()\n",
    "modelGB.fit(X_train, y_train)\n",
    "\n",
    "y_predGB = modelGB.predict(X_test)"
   ]
  },
  {
   "cell_type": "code",
   "execution_count": 84,
   "metadata": {},
   "outputs": [
    {
     "name": "stdout",
     "output_type": "stream",
     "text": [
      "Gradient Boosting - Accuracy: 0.8693262205728864\n",
      "Gradient Boosting - Precision: 0.8742053698302296\n",
      "Gradient Boosting - Recall: 0.9835086243163652\n",
      "Gradient Boosting - F1 Score: 0.9256414317389927\n",
      "Gradient Boosting - ROC-AUC: 0.6535505588069761\n"
     ]
    }
   ],
   "source": [
    "accuracyGB = accuracy_score(y_test, y_predGB)\n",
    "precisionGB = precision_score(y_test, y_predGB)\n",
    "recallGB = recall_score(y_test, y_predGB)\n",
    "f1GB = f1_score(y_test, y_predGB)\n",
    "roc_aucGB = roc_auc_score(y_test, y_predGB)\n",
    "\n",
    "print(f\"Gradient Boosting - Accuracy: {accuracyGB}\")\n",
    "print(f\"Gradient Boosting - Precision: {precisionGB}\")\n",
    "print(f\"Gradient Boosting - Recall: {recallGB}\")\n",
    "print(f\"Gradient Boosting - F1 Score: {f1GB}\")\n",
    "print(f\"Gradient Boosting - ROC-AUC: {roc_aucGB}\")"
   ]
  },
  {
   "cell_type": "markdown",
   "metadata": {},
   "source": [
    "Naive Bayes"
   ]
  },
  {
   "cell_type": "code",
   "execution_count": 85,
   "metadata": {},
   "outputs": [],
   "source": [
    "from sklearn.naive_bayes import MultinomialNB\n",
    "from sklearn.metrics import accuracy_score, precision_score, recall_score, f1_score, roc_auc_score"
   ]
  },
  {
   "cell_type": "code",
   "execution_count": 86,
   "metadata": {},
   "outputs": [],
   "source": [
    "modelNB = MultinomialNB()\n",
    "modelNB.fit(X_train, y_train)\n",
    "\n",
    "y_predNB = modelNB.predict(X_test)"
   ]
  },
  {
   "cell_type": "code",
   "execution_count": 87,
   "metadata": {},
   "outputs": [
    {
     "name": "stdout",
     "output_type": "stream",
     "text": [
      "Naive Bayes - Accuracy: 0.8548069117476517\n",
      "Naive Bayes - Precision: 0.8532118910864915\n",
      "Naive Bayes - Recall: 0.9957369232926658\n",
      "Naive Bayes - F1 Score: 0.9189811818911293\n",
      "Naive Bayes - ROC-AUC: 0.5884850836302471\n"
     ]
    }
   ],
   "source": [
    "accuracyNB = accuracy_score(y_test, y_predNB)\n",
    "precisionNB = precision_score(y_test, y_predNB)\n",
    "recallNB = recall_score(y_test, y_predNB)\n",
    "f1NB = f1_score(y_test, y_predNB)\n",
    "roc_aucNB = roc_auc_score(y_test, y_predNB)\n",
    "\n",
    "print(f\"Naive Bayes - Accuracy: {accuracyNB}\")\n",
    "print(f\"Naive Bayes - Precision: {precisionNB}\")\n",
    "print(f\"Naive Bayes - Recall: {recallNB}\")\n",
    "print(f\"Naive Bayes - F1 Score: {f1NB}\")\n",
    "print(f\"Naive Bayes - ROC-AUC: {roc_aucNB}\")"
   ]
  },
  {
   "cell_type": "markdown",
   "metadata": {},
   "source": [
    "LSTM"
   ]
  },
  {
   "cell_type": "code",
   "execution_count": 88,
   "metadata": {},
   "outputs": [],
   "source": [
    "import pandas as pd  # For DataFrame manipulation\n",
    "import numpy as np  # For numerical operations\n",
    "from tensorflow.keras.preprocessing.text import Tokenizer\n",
    "from tensorflow.keras.preprocessing.sequence import pad_sequences\n",
    "from tensorflow.keras.models import Sequential\n",
    "from tensorflow.keras.layers import Embedding, LSTM, Dense, Dropout\n",
    "from sklearn.model_selection import train_test_split\n",
    "from sklearn.preprocessing import LabelEncoder\n",
    "from sklearn.metrics import classification_report, confusion_matrix\n"
   ]
  },
  {
   "cell_type": "code",
   "execution_count": 89,
   "metadata": {},
   "outputs": [],
   "source": [
    "# Convert non-string values in the 'text' column to strings\n",
    "dfNew['text'] = dfNew['text'].astype(str)\n",
    "\n",
    "# Drop rows where 'text' is NaN or replace NaN with a placeholder like an empty string\n",
    "dfNew['text'] = dfNew['text'].fillna('')\n",
    "\n",
    "# Tokenize and pad sequences\n",
    "tokenizer = Tokenizer(num_words=5000, oov_token='<OOV>')\n",
    "tokenizer.fit_on_texts(dfNew['text'].values)\n",
    "word_index = tokenizer.word_index\n",
    "\n",
    "# Convert text to sequences\n",
    "sequences = tokenizer.texts_to_sequences(dfNew['text'].values)\n",
    "padded_sequences = pad_sequences(sequences, maxlen=200, padding='post', truncating='post')\n"
   ]
  },
  {
   "cell_type": "code",
   "execution_count": 90,
   "metadata": {},
   "outputs": [],
   "source": [
    "X = padded_sequences\n",
    "y = dfNew['sentiment'].values\n",
    "\n",
    "# Split the dataset into training and testing sets\n",
    "X_train, X_test, y_train, y_test = train_test_split(X, y, test_size=0.2, random_state=42)\n"
   ]
  },
  {
   "cell_type": "code",
   "execution_count": 91,
   "metadata": {},
   "outputs": [
    {
     "name": "stderr",
     "output_type": "stream",
     "text": [
      "/Library/Frameworks/Python.framework/Versions/3.12/lib/python3.12/site-packages/keras/src/layers/core/embedding.py:90: UserWarning: Argument `input_length` is deprecated. Just remove it.\n",
      "  warnings.warn(\n"
     ]
    },
    {
     "data": {
      "text/html": [
       "<pre style=\"white-space:pre;overflow-x:auto;line-height:normal;font-family:Menlo,'DejaVu Sans Mono',consolas,'Courier New',monospace\"><span style=\"font-weight: bold\">Model: \"sequential_1\"</span>\n",
       "</pre>\n"
      ],
      "text/plain": [
       "\u001b[1mModel: \"sequential_1\"\u001b[0m\n"
      ]
     },
     "metadata": {},
     "output_type": "display_data"
    },
    {
     "data": {
      "text/html": [
       "<pre style=\"white-space:pre;overflow-x:auto;line-height:normal;font-family:Menlo,'DejaVu Sans Mono',consolas,'Courier New',monospace\">┏━━━━━━━━━━━━━━━━━━━━━━━━━━━━━━━━━┳━━━━━━━━━━━━━━━━━━━━━━━━┳━━━━━━━━━━━━━━━┓\n",
       "┃<span style=\"font-weight: bold\"> Layer (type)                    </span>┃<span style=\"font-weight: bold\"> Output Shape           </span>┃<span style=\"font-weight: bold\">       Param # </span>┃\n",
       "┡━━━━━━━━━━━━━━━━━━━━━━━━━━━━━━━━━╇━━━━━━━━━━━━━━━━━━━━━━━━╇━━━━━━━━━━━━━━━┩\n",
       "│ embedding_1 (<span style=\"color: #0087ff; text-decoration-color: #0087ff\">Embedding</span>)         │ ?                      │   <span style=\"color: #00af00; text-decoration-color: #00af00\">0</span> (unbuilt) │\n",
       "├─────────────────────────────────┼────────────────────────┼───────────────┤\n",
       "│ lstm_2 (<span style=\"color: #0087ff; text-decoration-color: #0087ff\">LSTM</span>)                   │ ?                      │   <span style=\"color: #00af00; text-decoration-color: #00af00\">0</span> (unbuilt) │\n",
       "├─────────────────────────────────┼────────────────────────┼───────────────┤\n",
       "│ dropout_1 (<span style=\"color: #0087ff; text-decoration-color: #0087ff\">Dropout</span>)             │ ?                      │   <span style=\"color: #00af00; text-decoration-color: #00af00\">0</span> (unbuilt) │\n",
       "├─────────────────────────────────┼────────────────────────┼───────────────┤\n",
       "│ lstm_3 (<span style=\"color: #0087ff; text-decoration-color: #0087ff\">LSTM</span>)                   │ ?                      │   <span style=\"color: #00af00; text-decoration-color: #00af00\">0</span> (unbuilt) │\n",
       "├─────────────────────────────────┼────────────────────────┼───────────────┤\n",
       "│ dense_2 (<span style=\"color: #0087ff; text-decoration-color: #0087ff\">Dense</span>)                 │ ?                      │   <span style=\"color: #00af00; text-decoration-color: #00af00\">0</span> (unbuilt) │\n",
       "├─────────────────────────────────┼────────────────────────┼───────────────┤\n",
       "│ dense_3 (<span style=\"color: #0087ff; text-decoration-color: #0087ff\">Dense</span>)                 │ ?                      │   <span style=\"color: #00af00; text-decoration-color: #00af00\">0</span> (unbuilt) │\n",
       "└─────────────────────────────────┴────────────────────────┴───────────────┘\n",
       "</pre>\n"
      ],
      "text/plain": [
       "┏━━━━━━━━━━━━━━━━━━━━━━━━━━━━━━━━━┳━━━━━━━━━━━━━━━━━━━━━━━━┳━━━━━━━━━━━━━━━┓\n",
       "┃\u001b[1m \u001b[0m\u001b[1mLayer (type)                   \u001b[0m\u001b[1m \u001b[0m┃\u001b[1m \u001b[0m\u001b[1mOutput Shape          \u001b[0m\u001b[1m \u001b[0m┃\u001b[1m \u001b[0m\u001b[1m      Param #\u001b[0m\u001b[1m \u001b[0m┃\n",
       "┡━━━━━━━━━━━━━━━━━━━━━━━━━━━━━━━━━╇━━━━━━━━━━━━━━━━━━━━━━━━╇━━━━━━━━━━━━━━━┩\n",
       "│ embedding_1 (\u001b[38;5;33mEmbedding\u001b[0m)         │ ?                      │   \u001b[38;5;34m0\u001b[0m (unbuilt) │\n",
       "├─────────────────────────────────┼────────────────────────┼───────────────┤\n",
       "│ lstm_2 (\u001b[38;5;33mLSTM\u001b[0m)                   │ ?                      │   \u001b[38;5;34m0\u001b[0m (unbuilt) │\n",
       "├─────────────────────────────────┼────────────────────────┼───────────────┤\n",
       "│ dropout_1 (\u001b[38;5;33mDropout\u001b[0m)             │ ?                      │   \u001b[38;5;34m0\u001b[0m (unbuilt) │\n",
       "├─────────────────────────────────┼────────────────────────┼───────────────┤\n",
       "│ lstm_3 (\u001b[38;5;33mLSTM\u001b[0m)                   │ ?                      │   \u001b[38;5;34m0\u001b[0m (unbuilt) │\n",
       "├─────────────────────────────────┼────────────────────────┼───────────────┤\n",
       "│ dense_2 (\u001b[38;5;33mDense\u001b[0m)                 │ ?                      │   \u001b[38;5;34m0\u001b[0m (unbuilt) │\n",
       "├─────────────────────────────────┼────────────────────────┼───────────────┤\n",
       "│ dense_3 (\u001b[38;5;33mDense\u001b[0m)                 │ ?                      │   \u001b[38;5;34m0\u001b[0m (unbuilt) │\n",
       "└─────────────────────────────────┴────────────────────────┴───────────────┘\n"
      ]
     },
     "metadata": {},
     "output_type": "display_data"
    },
    {
     "data": {
      "text/html": [
       "<pre style=\"white-space:pre;overflow-x:auto;line-height:normal;font-family:Menlo,'DejaVu Sans Mono',consolas,'Courier New',monospace\"><span style=\"font-weight: bold\"> Total params: </span><span style=\"color: #00af00; text-decoration-color: #00af00\">0</span> (0.00 B)\n",
       "</pre>\n"
      ],
      "text/plain": [
       "\u001b[1m Total params: \u001b[0m\u001b[38;5;34m0\u001b[0m (0.00 B)\n"
      ]
     },
     "metadata": {},
     "output_type": "display_data"
    },
    {
     "data": {
      "text/html": [
       "<pre style=\"white-space:pre;overflow-x:auto;line-height:normal;font-family:Menlo,'DejaVu Sans Mono',consolas,'Courier New',monospace\"><span style=\"font-weight: bold\"> Trainable params: </span><span style=\"color: #00af00; text-decoration-color: #00af00\">0</span> (0.00 B)\n",
       "</pre>\n"
      ],
      "text/plain": [
       "\u001b[1m Trainable params: \u001b[0m\u001b[38;5;34m0\u001b[0m (0.00 B)\n"
      ]
     },
     "metadata": {},
     "output_type": "display_data"
    },
    {
     "data": {
      "text/html": [
       "<pre style=\"white-space:pre;overflow-x:auto;line-height:normal;font-family:Menlo,'DejaVu Sans Mono',consolas,'Courier New',monospace\"><span style=\"font-weight: bold\"> Non-trainable params: </span><span style=\"color: #00af00; text-decoration-color: #00af00\">0</span> (0.00 B)\n",
       "</pre>\n"
      ],
      "text/plain": [
       "\u001b[1m Non-trainable params: \u001b[0m\u001b[38;5;34m0\u001b[0m (0.00 B)\n"
      ]
     },
     "metadata": {},
     "output_type": "display_data"
    }
   ],
   "source": [
    "modelLSTM = Sequential([\n",
    "    Embedding(input_dim=5000, output_dim=64, input_length=200),\n",
    "    LSTM(64, return_sequences=True),\n",
    "    Dropout(0.5),\n",
    "    LSTM(32),\n",
    "    Dense(32, activation='relu'),\n",
    "    Dense(1, activation='sigmoid')\n",
    "])\n",
    "\n",
    "modelLSTM.compile(optimizer='adam', loss='binary_crossentropy', metrics=['accuracy'])\n",
    "\n",
    "modelLSTM.summary()\n"
   ]
  },
  {
   "cell_type": "code",
   "execution_count": 92,
   "metadata": {},
   "outputs": [
    {
     "name": "stdout",
     "output_type": "stream",
     "text": [
      "Epoch 1/5\n",
      "\u001b[1m2695/2695\u001b[0m \u001b[32m━━━━━━━━━━━━━━━━━━━━\u001b[0m\u001b[37m\u001b[0m \u001b[1m294s\u001b[0m 109ms/step - accuracy: 0.8293 - loss: 0.4580 - val_accuracy: 0.8270 - val_loss: 0.4595\n",
      "Epoch 2/5\n",
      "\u001b[1m2695/2695\u001b[0m \u001b[32m━━━━━━━━━━━━━━━━━━━━\u001b[0m\u001b[37m\u001b[0m \u001b[1m292s\u001b[0m 108ms/step - accuracy: 0.8323 - loss: 0.4458 - val_accuracy: 0.8767 - val_loss: 0.3089\n",
      "Epoch 3/5\n",
      "\u001b[1m2695/2695\u001b[0m \u001b[32m━━━━━━━━━━━━━━━━━━━━\u001b[0m\u001b[37m\u001b[0m \u001b[1m293s\u001b[0m 109ms/step - accuracy: 0.8946 - loss: 0.2621 - val_accuracy: 0.9165 - val_loss: 0.2117\n",
      "Epoch 4/5\n",
      "\u001b[1m2695/2695\u001b[0m \u001b[32m━━━━━━━━━━━━━━━━━━━━\u001b[0m\u001b[37m\u001b[0m \u001b[1m293s\u001b[0m 109ms/step - accuracy: 0.9248 - loss: 0.1911 - val_accuracy: 0.9220 - val_loss: 0.1985\n",
      "Epoch 5/5\n",
      "\u001b[1m2695/2695\u001b[0m \u001b[32m━━━━━━━━━━━━━━━━━━━━\u001b[0m\u001b[37m\u001b[0m \u001b[1m294s\u001b[0m 109ms/step - accuracy: 0.9349 - loss: 0.1681 - val_accuracy: 0.9334 - val_loss: 0.1749\n"
     ]
    }
   ],
   "source": [
    "history = modelLSTM.fit(X_train, y_train, epochs=5, batch_size=64, validation_data=(X_test, y_test))\n"
   ]
  },
  {
   "cell_type": "code",
   "execution_count": 96,
   "metadata": {},
   "outputs": [
    {
     "name": "stdout",
     "output_type": "stream",
     "text": [
      "\u001b[1m1348/1348\u001b[0m \u001b[32m━━━━━━━━━━━━━━━━━━━━\u001b[0m\u001b[37m\u001b[0m \u001b[1m23s\u001b[0m 17ms/step\n",
      "Accuracy: 0.9334\n",
      "Precision: 0.9475\n",
      "Recall: 0.9733\n",
      "F1 Score: 0.9603\n"
     ]
    }
   ],
   "source": [
    "y_predLSTM = (modelLSTM.predict(X_test) > 0.5).astype(\"int32\")\n",
    "accuracyLSTM = accuracy_score(y_test, y_predLSTM)\n",
    "precisionLSTM = precision_score(y_test, y_predLSTM)\n",
    "recallLSTM = recall_score(y_test, y_predLSTM)\n",
    "f1LSTM = f1_score(y_test, y_predLSTM)\n",
    "\n",
    "# Print the metrics separately\n",
    "print(f\"Accuracy: {accuracyLSTM:.4f}\")\n",
    "print(f\"Precision: {precisionLSTM:.4f}\")\n",
    "print(f\"Recall: {recallLSTM:.4f}\")\n",
    "print(f\"F1 Score: {f1LSTM:.4f}\")"
   ]
  },
  {
   "cell_type": "markdown",
   "metadata": {},
   "source": [
    "Model Comparison"
   ]
  },
  {
   "cell_type": "code",
   "execution_count": 100,
   "metadata": {},
   "outputs": [],
   "source": [
    "modelsMetrics = pd.DataFrame({\n",
    "    'Model': ['Logistic Regeression', 'Random Forest', 'GD Booster','Naive Bayes','LSTM'],\n",
    "    'Accuracy': [accuracyLR, accuracyRF, accuracyGB,accuracyNB,accuracyLSTM],\n",
    "    'Precision': [precisionLR, precisionRF, precisionGB,precisionNB,precisionLSTM],\n",
    "    'Recall': [recallLR,recallRF,recallGB, recallNB, recallLSTM],\n",
    "    'F1 Score': [f1LR, f1RF, f1GB,f1NB,f1LSTM]\n",
    "})"
   ]
  },
  {
   "cell_type": "code",
   "execution_count": 101,
   "metadata": {},
   "outputs": [
    {
     "data": {
      "text/html": [
       "<div>\n",
       "<style scoped>\n",
       "    .dataframe tbody tr th:only-of-type {\n",
       "        vertical-align: middle;\n",
       "    }\n",
       "\n",
       "    .dataframe tbody tr th {\n",
       "        vertical-align: top;\n",
       "    }\n",
       "\n",
       "    .dataframe thead th {\n",
       "        text-align: right;\n",
       "    }\n",
       "</style>\n",
       "<table border=\"1\" class=\"dataframe\">\n",
       "  <thead>\n",
       "    <tr style=\"text-align: right;\">\n",
       "      <th></th>\n",
       "      <th>Model</th>\n",
       "      <th>Accuracy</th>\n",
       "      <th>Precision</th>\n",
       "      <th>Recall</th>\n",
       "      <th>F1 Score</th>\n",
       "    </tr>\n",
       "  </thead>\n",
       "  <tbody>\n",
       "    <tr>\n",
       "      <th>0</th>\n",
       "      <td>Logistic Regeression</td>\n",
       "      <td>0.912884</td>\n",
       "      <td>0.927910</td>\n",
       "      <td>0.970018</td>\n",
       "      <td>0.948497</td>\n",
       "    </tr>\n",
       "    <tr>\n",
       "      <th>1</th>\n",
       "      <td>Random Forest</td>\n",
       "      <td>0.963261</td>\n",
       "      <td>0.959215</td>\n",
       "      <td>0.998009</td>\n",
       "      <td>0.978227</td>\n",
       "    </tr>\n",
       "    <tr>\n",
       "      <th>2</th>\n",
       "      <td>GD Booster</td>\n",
       "      <td>0.869326</td>\n",
       "      <td>0.874205</td>\n",
       "      <td>0.983509</td>\n",
       "      <td>0.925641</td>\n",
       "    </tr>\n",
       "    <tr>\n",
       "      <th>3</th>\n",
       "      <td>Naive Bayes</td>\n",
       "      <td>0.854807</td>\n",
       "      <td>0.853212</td>\n",
       "      <td>0.995737</td>\n",
       "      <td>0.918981</td>\n",
       "    </tr>\n",
       "    <tr>\n",
       "      <th>4</th>\n",
       "      <td>LSTM</td>\n",
       "      <td>0.933364</td>\n",
       "      <td>0.947524</td>\n",
       "      <td>0.973328</td>\n",
       "      <td>0.960252</td>\n",
       "    </tr>\n",
       "  </tbody>\n",
       "</table>\n",
       "</div>"
      ],
      "text/plain": [
       "                  Model  Accuracy  Precision    Recall  F1 Score\n",
       "0  Logistic Regeression  0.912884   0.927910  0.970018  0.948497\n",
       "1         Random Forest  0.963261   0.959215  0.998009  0.978227\n",
       "2            GD Booster  0.869326   0.874205  0.983509  0.925641\n",
       "3           Naive Bayes  0.854807   0.853212  0.995737  0.918981\n",
       "4                  LSTM  0.933364   0.947524  0.973328  0.960252"
      ]
     },
     "execution_count": 101,
     "metadata": {},
     "output_type": "execute_result"
    }
   ],
   "source": [
    "modelsMetrics"
   ]
  },
  {
   "cell_type": "code",
   "execution_count": 102,
   "metadata": {},
   "outputs": [
    {
     "data": {
      "text/plain": [
       "<Figure size 1200x800 with 0 Axes>"
      ]
     },
     "metadata": {},
     "output_type": "display_data"
    },
    {
     "data": {
      "image/png": "[encoded data removed]",
      "text/plain": [
       "<Figure size 1200x800 with 1 Axes>"
      ]
     },
     "metadata": {},
     "output_type": "display_data"
    }
   ],
   "source": [
    "import matplotlib.pyplot as plt\n",
    "import seaborn as sns\n",
    "\n",
    "# Set up the plotting environment\n",
    "plt.figure(figsize=(12, 8))\n",
    "modelsMetrics.set_index('Model').plot(kind='bar', figsize=(12, 8))\n",
    "plt.title('Model Performance Comparison')\n",
    "plt.xlabel('Model')\n",
    "plt.ylabel('Score')\n",
    "plt.legend(title='Metric')\n",
    "plt.xticks(rotation=45)\n",
    "plt.tight_layout()\n",
    "plt.show()\n"
   ]
  },
  {
   "cell_type": "code",
   "execution_count": 103,
   "metadata": {},
   "outputs": [
    {
     "data": {
      "image/png": "[encoded data removed]",
      "text/plain": [
       "<Figure size 1000x600 with 2 Axes>"
      ]
     },
     "metadata": {},
     "output_type": "display_data"
    }
   ],
   "source": [
    "# Set up the heatmap\n",
    "plt.figure(figsize=(10, 6))\n",
    "heatmap_data = modelsMetrics.set_index('Model')\n",
    "sns.heatmap(heatmap_data, annot=True, cmap='coolwarm', fmt='.2f', linewidths=.5)\n",
    "plt.title('Heatmap of Model Performance Metrics')\n",
    "plt.xlabel('Metric')\n",
    "plt.ylabel('Model')\n",
    "plt.tight_layout()\n",
    "plt.show()\n"
   ]
  },
  {
   "cell_type": "markdown",
   "metadata": {},
   "source": [
    "Conclusion"
   ]
  },
  {
   "cell_type": "markdown",
   "metadata": {},
   "source": [
    "Random Forest stands out as the best-performing model due to its high accuracy, precision, recall, and F1 score. LSTM and Logistic Regression also deliver strong performance, particularly in recall. GD Booster and Naive Bayes excel in recall but have lower accuracy and F1 scores.\n",
    "\n",
    "These results suggest that while the Random Forest model provides the best overall performance, other models like LSTM and Logistic Regression also offer high-quality predictions and might be preferred based on specific needs or constraints."
   ]
  }
 ],
 "metadata": {
  "colab": {
   "provenance": []
  },
  "kernelspec": {
   "display_name": "Python 3 (ipykernel)",
   "language": "python",
   "name": "python3"
  },
  "language_info": {
   "codemirror_mode": {
    "name": "ipython",
    "version": 3
   },
   "file_extension": ".py",
   "mimetype": "text/x-python",
   "name": "python",
   "nbconvert_exporter": "python",
   "pygments_lexer": "ipython3",
   "version": "3.12.4"
  }
 },
 "nbformat": 4,
 "nbformat_minor": 4
}
